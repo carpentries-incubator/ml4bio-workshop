{
 "cells": [
  {
   "cell_type": "markdown",
   "metadata": {},
   "source": [
    "#### Data source:\n",
    "Lee M, Teber ET, Holmes O, Nones K, Patch AM, Dagg RA, Lau LMS, Lee JH, Napier CE, Arthur JW, Grimmond SM, Hayward NK, Johansson PA, Mann GJ, Scolyer RA, Wilmott JS, Reddel RR, Pearson JV, Waddell N, Pickett HA. \n",
    "**Telomere sequence content can be used to determine ALT activity in tumours.**\n",
    "_Nucleic Acids Res._ 2018 Jun 1;46(10):4903-4918."
   ]
  },
  {
   "cell_type": "markdown",
   "metadata": {},
   "source": [
    "# STEP 1: Preprocessing"
   ]
  },
  {
   "cell_type": "markdown",
   "metadata": {},
   "source": [
    "## Load data"
   ]
  },
  {
   "cell_type": "code",
   "execution_count": 80,
   "metadata": {
    "collapsed": false
   },
   "outputs": [
    {
     "data": {
      "text/html": [
       "<div>\n",
       "<style scoped>\n",
       "    .dataframe tbody tr th:only-of-type {\n",
       "        vertical-align: middle;\n",
       "    }\n",
       "\n",
       "    .dataframe tbody tr th {\n",
       "        vertical-align: top;\n",
       "    }\n",
       "\n",
       "    .dataframe thead th {\n",
       "        text-align: right;\n",
       "    }\n",
       "</style>\n",
       "<table border=\"1\" class=\"dataframe\">\n",
       "  <thead>\n",
       "    <tr style=\"text-align: right;\">\n",
       "      <th></th>\n",
       "      <th>TTAGGG</th>\n",
       "      <th>ATAGGG</th>\n",
       "      <th>CTAGGG</th>\n",
       "      <th>GTAGGG</th>\n",
       "      <th>TAAGGG</th>\n",
       "      <th>TCAGGG</th>\n",
       "      <th>TGAGGG</th>\n",
       "      <th>TTCGGG</th>\n",
       "      <th>TTGGGG</th>\n",
       "      <th>TTTGGG</th>\n",
       "      <th>...</th>\n",
       "      <th>TTACGG</th>\n",
       "      <th>TTATGG</th>\n",
       "      <th>TTAGAG</th>\n",
       "      <th>TTAGCG</th>\n",
       "      <th>TTAGTG</th>\n",
       "      <th>TTAGGA</th>\n",
       "      <th>TTAGGC</th>\n",
       "      <th>TTAGGT</th>\n",
       "      <th>rel_TL</th>\n",
       "      <th>TMM</th>\n",
       "    </tr>\n",
       "  </thead>\n",
       "  <tbody>\n",
       "    <tr>\n",
       "      <th>0</th>\n",
       "      <td>94.846</td>\n",
       "      <td>0.019</td>\n",
       "      <td>0.430</td>\n",
       "      <td>0.422</td>\n",
       "      <td>0.216</td>\n",
       "      <td>0.544</td>\n",
       "      <td>1.762</td>\n",
       "      <td>0.535</td>\n",
       "      <td>0.338</td>\n",
       "      <td>0.068</td>\n",
       "      <td>...</td>\n",
       "      <td>0.028</td>\n",
       "      <td>0.118</td>\n",
       "      <td>0.153</td>\n",
       "      <td>0.000</td>\n",
       "      <td>0.049</td>\n",
       "      <td>0.060</td>\n",
       "      <td>0.033</td>\n",
       "      <td>0.089</td>\n",
       "      <td>-0.89</td>\n",
       "      <td>-</td>\n",
       "    </tr>\n",
       "    <tr>\n",
       "      <th>1</th>\n",
       "      <td>94.951</td>\n",
       "      <td>0.011</td>\n",
       "      <td>0.241</td>\n",
       "      <td>0.491</td>\n",
       "      <td>0.223</td>\n",
       "      <td>0.317</td>\n",
       "      <td>1.351</td>\n",
       "      <td>0.818</td>\n",
       "      <td>0.702</td>\n",
       "      <td>0.090</td>\n",
       "      <td>...</td>\n",
       "      <td>0.024</td>\n",
       "      <td>0.125</td>\n",
       "      <td>0.080</td>\n",
       "      <td>0.024</td>\n",
       "      <td>0.035</td>\n",
       "      <td>0.155</td>\n",
       "      <td>0.030</td>\n",
       "      <td>0.093</td>\n",
       "      <td>-0.39</td>\n",
       "      <td>-</td>\n",
       "    </tr>\n",
       "    <tr>\n",
       "      <th>2</th>\n",
       "      <td>94.889</td>\n",
       "      <td>0.043</td>\n",
       "      <td>0.439</td>\n",
       "      <td>0.478</td>\n",
       "      <td>0.355</td>\n",
       "      <td>0.316</td>\n",
       "      <td>1.151</td>\n",
       "      <td>0.625</td>\n",
       "      <td>0.313</td>\n",
       "      <td>0.079</td>\n",
       "      <td>...</td>\n",
       "      <td>0.041</td>\n",
       "      <td>0.253</td>\n",
       "      <td>0.195</td>\n",
       "      <td>0.032</td>\n",
       "      <td>0.043</td>\n",
       "      <td>0.161</td>\n",
       "      <td>0.047</td>\n",
       "      <td>0.185</td>\n",
       "      <td>-1.66</td>\n",
       "      <td>-</td>\n",
       "    </tr>\n",
       "    <tr>\n",
       "      <th>3</th>\n",
       "      <td>94.202</td>\n",
       "      <td>0.017</td>\n",
       "      <td>0.252</td>\n",
       "      <td>0.509</td>\n",
       "      <td>0.396</td>\n",
       "      <td>0.548</td>\n",
       "      <td>1.877</td>\n",
       "      <td>0.856</td>\n",
       "      <td>0.440</td>\n",
       "      <td>0.097</td>\n",
       "      <td>...</td>\n",
       "      <td>0.053</td>\n",
       "      <td>0.110</td>\n",
       "      <td>0.125</td>\n",
       "      <td>0.000</td>\n",
       "      <td>0.043</td>\n",
       "      <td>0.069</td>\n",
       "      <td>0.029</td>\n",
       "      <td>0.110</td>\n",
       "      <td>-1.73</td>\n",
       "      <td>-</td>\n",
       "    </tr>\n",
       "    <tr>\n",
       "      <th>4</th>\n",
       "      <td>96.368</td>\n",
       "      <td>0.011</td>\n",
       "      <td>0.078</td>\n",
       "      <td>0.131</td>\n",
       "      <td>0.015</td>\n",
       "      <td>0.306</td>\n",
       "      <td>1.525</td>\n",
       "      <td>1.165</td>\n",
       "      <td>0.126</td>\n",
       "      <td>0.000</td>\n",
       "      <td>...</td>\n",
       "      <td>0.014</td>\n",
       "      <td>0.099</td>\n",
       "      <td>0.022</td>\n",
       "      <td>0.000</td>\n",
       "      <td>0.019</td>\n",
       "      <td>0.026</td>\n",
       "      <td>0.009</td>\n",
       "      <td>0.014</td>\n",
       "      <td>0.21</td>\n",
       "      <td>-</td>\n",
       "    </tr>\n",
       "    <tr>\n",
       "      <th>5</th>\n",
       "      <td>98.843</td>\n",
       "      <td>0.001</td>\n",
       "      <td>0.112</td>\n",
       "      <td>0.179</td>\n",
       "      <td>0.000</td>\n",
       "      <td>0.073</td>\n",
       "      <td>0.285</td>\n",
       "      <td>0.280</td>\n",
       "      <td>0.094</td>\n",
       "      <td>0.000</td>\n",
       "      <td>...</td>\n",
       "      <td>0.009</td>\n",
       "      <td>0.011</td>\n",
       "      <td>0.045</td>\n",
       "      <td>0.000</td>\n",
       "      <td>0.002</td>\n",
       "      <td>0.014</td>\n",
       "      <td>0.010</td>\n",
       "      <td>0.003</td>\n",
       "      <td>0.56</td>\n",
       "      <td>-</td>\n",
       "    </tr>\n",
       "    <tr>\n",
       "      <th>6</th>\n",
       "      <td>97.041</td>\n",
       "      <td>0.002</td>\n",
       "      <td>0.209</td>\n",
       "      <td>0.324</td>\n",
       "      <td>0.200</td>\n",
       "      <td>0.391</td>\n",
       "      <td>0.640</td>\n",
       "      <td>0.353</td>\n",
       "      <td>0.257</td>\n",
       "      <td>0.041</td>\n",
       "      <td>...</td>\n",
       "      <td>0.014</td>\n",
       "      <td>0.066</td>\n",
       "      <td>0.089</td>\n",
       "      <td>0.000</td>\n",
       "      <td>0.017</td>\n",
       "      <td>0.086</td>\n",
       "      <td>0.016</td>\n",
       "      <td>0.041</td>\n",
       "      <td>0.01</td>\n",
       "      <td>-</td>\n",
       "    </tr>\n",
       "    <tr>\n",
       "      <th>7</th>\n",
       "      <td>93.687</td>\n",
       "      <td>0.034</td>\n",
       "      <td>0.444</td>\n",
       "      <td>0.651</td>\n",
       "      <td>0.463</td>\n",
       "      <td>0.655</td>\n",
       "      <td>1.347</td>\n",
       "      <td>0.836</td>\n",
       "      <td>0.550</td>\n",
       "      <td>0.133</td>\n",
       "      <td>...</td>\n",
       "      <td>0.038</td>\n",
       "      <td>0.136</td>\n",
       "      <td>0.191</td>\n",
       "      <td>0.046</td>\n",
       "      <td>0.034</td>\n",
       "      <td>0.160</td>\n",
       "      <td>0.033</td>\n",
       "      <td>0.099</td>\n",
       "      <td>-0.79</td>\n",
       "      <td>-</td>\n",
       "    </tr>\n",
       "    <tr>\n",
       "      <th>8</th>\n",
       "      <td>97.500</td>\n",
       "      <td>0.015</td>\n",
       "      <td>0.149</td>\n",
       "      <td>0.264</td>\n",
       "      <td>0.078</td>\n",
       "      <td>0.238</td>\n",
       "      <td>0.917</td>\n",
       "      <td>0.184</td>\n",
       "      <td>0.206</td>\n",
       "      <td>0.038</td>\n",
       "      <td>...</td>\n",
       "      <td>0.019</td>\n",
       "      <td>0.086</td>\n",
       "      <td>0.060</td>\n",
       "      <td>0.000</td>\n",
       "      <td>0.029</td>\n",
       "      <td>0.045</td>\n",
       "      <td>0.024</td>\n",
       "      <td>0.031</td>\n",
       "      <td>-0.83</td>\n",
       "      <td>-</td>\n",
       "    </tr>\n",
       "    <tr>\n",
       "      <th>9</th>\n",
       "      <td>97.110</td>\n",
       "      <td>0.001</td>\n",
       "      <td>0.223</td>\n",
       "      <td>0.303</td>\n",
       "      <td>0.166</td>\n",
       "      <td>0.293</td>\n",
       "      <td>0.729</td>\n",
       "      <td>0.382</td>\n",
       "      <td>0.253</td>\n",
       "      <td>0.026</td>\n",
       "      <td>...</td>\n",
       "      <td>0.026</td>\n",
       "      <td>0.036</td>\n",
       "      <td>0.148</td>\n",
       "      <td>0.000</td>\n",
       "      <td>0.017</td>\n",
       "      <td>0.059</td>\n",
       "      <td>0.019</td>\n",
       "      <td>0.029</td>\n",
       "      <td>-0.02</td>\n",
       "      <td>-</td>\n",
       "    </tr>\n",
       "  </tbody>\n",
       "</table>\n",
       "<p>10 rows × 21 columns</p>\n",
       "</div>"
      ],
      "text/plain": [
       "   TTAGGG  ATAGGG  CTAGGG  GTAGGG  TAAGGG  TCAGGG  TGAGGG  TTCGGG  TTGGGG  \\\n",
       "0  94.846   0.019   0.430   0.422   0.216   0.544   1.762   0.535   0.338   \n",
       "1  94.951   0.011   0.241   0.491   0.223   0.317   1.351   0.818   0.702   \n",
       "2  94.889   0.043   0.439   0.478   0.355   0.316   1.151   0.625   0.313   \n",
       "3  94.202   0.017   0.252   0.509   0.396   0.548   1.877   0.856   0.440   \n",
       "4  96.368   0.011   0.078   0.131   0.015   0.306   1.525   1.165   0.126   \n",
       "5  98.843   0.001   0.112   0.179   0.000   0.073   0.285   0.280   0.094   \n",
       "6  97.041   0.002   0.209   0.324   0.200   0.391   0.640   0.353   0.257   \n",
       "7  93.687   0.034   0.444   0.651   0.463   0.655   1.347   0.836   0.550   \n",
       "8  97.500   0.015   0.149   0.264   0.078   0.238   0.917   0.184   0.206   \n",
       "9  97.110   0.001   0.223   0.303   0.166   0.293   0.729   0.382   0.253   \n",
       "\n",
       "   TTTGGG ...   TTACGG  TTATGG  TTAGAG  TTAGCG  TTAGTG  TTAGGA  TTAGGC  \\\n",
       "0   0.068 ...    0.028   0.118   0.153   0.000   0.049   0.060   0.033   \n",
       "1   0.090 ...    0.024   0.125   0.080   0.024   0.035   0.155   0.030   \n",
       "2   0.079 ...    0.041   0.253   0.195   0.032   0.043   0.161   0.047   \n",
       "3   0.097 ...    0.053   0.110   0.125   0.000   0.043   0.069   0.029   \n",
       "4   0.000 ...    0.014   0.099   0.022   0.000   0.019   0.026   0.009   \n",
       "5   0.000 ...    0.009   0.011   0.045   0.000   0.002   0.014   0.010   \n",
       "6   0.041 ...    0.014   0.066   0.089   0.000   0.017   0.086   0.016   \n",
       "7   0.133 ...    0.038   0.136   0.191   0.046   0.034   0.160   0.033   \n",
       "8   0.038 ...    0.019   0.086   0.060   0.000   0.029   0.045   0.024   \n",
       "9   0.026 ...    0.026   0.036   0.148   0.000   0.017   0.059   0.019   \n",
       "\n",
       "   TTAGGT  rel_TL  TMM  \n",
       "0   0.089   -0.89    -  \n",
       "1   0.093   -0.39    -  \n",
       "2   0.185   -1.66    -  \n",
       "3   0.110   -1.73    -  \n",
       "4   0.014    0.21    -  \n",
       "5   0.003    0.56    -  \n",
       "6   0.041    0.01    -  \n",
       "7   0.099   -0.79    -  \n",
       "8   0.031   -0.83    -  \n",
       "9   0.029   -0.02    -  \n",
       "\n",
       "[10 rows x 21 columns]"
      ]
     },
     "execution_count": 80,
     "metadata": {},
     "output_type": "execute_result"
    }
   ],
   "source": [
    "import pandas as pd\n",
    "\n",
    "# Load data\n",
    "data = pd.read_csv(\"~/Desktop/ml4bio/data/telomere_ALT/telomere.csv\")\n",
    "data.head(10)    # Show first ten samples"
   ]
  },
  {
   "cell_type": "markdown",
   "metadata": {},
   "source": [
    "## Split data into training and test sets"
   ]
  },
  {
   "cell_type": "code",
   "execution_count": 160,
   "metadata": {
    "collapsed": false
   },
   "outputs": [],
   "source": [
    "from sklearn import model_selection\n",
    "\n",
    "num_row = data.shape[0]     # number of samples in the dataset\n",
    "num_col = data.shape[1]     # number of features in the dataset (plus the label column)\n",
    "\n",
    "X = data.iloc[:, 0: num_col-1]    # feature columns\n",
    "y = data['TMM']                   # label column\n",
    "\n",
    "X_train, X_test, y_train, y_test = \\\n",
    "    model_selection.train_test_split(X, y, \n",
    "                                     test_size=0.2,      # reserve 20 percent data for testing\n",
    "                                     stratify=y,         # stratified sampling\n",
    "                                     random_state=0)"
   ]
  },
  {
   "cell_type": "code",
   "execution_count": 223,
   "metadata": {
    "collapsed": false
   },
   "outputs": [
    {
     "data": {
      "text/plain": [
       "(133, 20)"
      ]
     },
     "execution_count": 223,
     "metadata": {},
     "output_type": "execute_result"
    }
   ],
   "source": [
    "X_train.shape"
   ]
  },
  {
   "cell_type": "code",
   "execution_count": 224,
   "metadata": {
    "collapsed": false
   },
   "outputs": [
    {
     "data": {
      "text/plain": [
       "(34, 20)"
      ]
     },
     "execution_count": 224,
     "metadata": {},
     "output_type": "execute_result"
    }
   ],
   "source": [
    "X_test.shape"
   ]
  },
  {
   "cell_type": "code",
   "execution_count": 225,
   "metadata": {
    "collapsed": false
   },
   "outputs": [
    {
     "data": {
      "text/plain": [
       "-    99\n",
       "+    34\n",
       "Name: TMM, dtype: int64"
      ]
     },
     "execution_count": 225,
     "metadata": {},
     "output_type": "execute_result"
    }
   ],
   "source": [
    "y_train.value_counts()"
   ]
  },
  {
   "cell_type": "code",
   "execution_count": 226,
   "metadata": {
    "collapsed": false
   },
   "outputs": [
    {
     "data": {
      "text/plain": [
       "-    25\n",
       "+     9\n",
       "Name: TMM, dtype: int64"
      ]
     },
     "execution_count": 226,
     "metadata": {},
     "output_type": "execute_result"
    }
   ],
   "source": [
    "y_test.value_counts()"
   ]
  },
  {
   "cell_type": "markdown",
   "metadata": {},
   "source": [
    "# STEP 2: Learning"
   ]
  },
  {
   "cell_type": "markdown",
   "metadata": {},
   "source": [
    "## Train a Random Forest classifier"
   ]
  },
  {
   "cell_type": "code",
   "execution_count": 134,
   "metadata": {
    "collapsed": false
   },
   "outputs": [],
   "source": [
    "import numpy as np\n",
    "from sklearn import ensemble\n",
    "\n",
    "rf = ensemble.RandomForestClassifier(\n",
    "    n_estimators = 10,           # 10 random trees in the forest\n",
    "    criterion = 'entropy',       # use entropy as the measure of uncertainty\n",
    "    max_depth = 3,               # maximum depth of each tree is 3\n",
    "    min_samples_split = 5,       # generate a split only when there are at least 5 samples at current node\n",
    "    class_weight = 'balanced',   # class weight is inversely proportional to class frequencies\n",
    "    random_state = 0)\n",
    "\n",
    "k = 3   # number of folds\n",
    "\n",
    "# split data into k folds\n",
    "kfold = model_selection.StratifiedKFold(\n",
    "    n_splits = k,\n",
    "    shuffle = True,\n",
    "    random_state = 0)\n",
    "\n",
    "cv = list(kfold.split(X_train, y_train))    # indices of samples in each fold"
   ]
  },
  {
   "cell_type": "code",
   "execution_count": 237,
   "metadata": {
    "collapsed": false
   },
   "outputs": [
    {
     "name": "stdout",
     "output_type": "stream",
     "text": [
      "validation fold 1:\n",
      "[  3   4   8   9  10  11  18  22  30  34  36  38  40  42  45  56  59  62\n",
      "  68  69  71  74  75  80  81  83  93  95  98 100 102 103 105 107 109 110\n",
      " 113 118 120 121 124 125 126 128 132]\n",
      "validation fold 2:\n",
      "[  1   2   5   6   7  15  16  20  21  23  25  26  31  32  37  39  43  46\n",
      "  47  49  51  53  54  55  58  64  65  66  67  70  72  73  79  82  84  87\n",
      "  90  96  97 104 112 116 119 123]\n",
      "validation fold 3:\n",
      "[  0  12  13  14  17  19  24  27  28  29  33  35  41  44  48  50  52  57\n",
      "  60  61  63  76  77  78  85  86  88  89  91  92  94  99 101 106 108 111\n",
      " 114 115 117 122 127 129 130 131]\n"
     ]
    }
   ],
   "source": [
    "for j, (train_idx, val_idx) in enumerate(cv):\n",
    "    print('validation fold %d:' % (j+1))\n",
    "    print(val_idx)"
   ]
  },
  {
   "cell_type": "markdown",
   "metadata": {},
   "source": [
    "## Compute classifier accuracy"
   ]
  },
  {
   "cell_type": "code",
   "execution_count": 135,
   "metadata": {
    "collapsed": false
   },
   "outputs": [
    {
     "name": "stdout",
     "output_type": "stream",
     "text": [
      "Fold 1 accuracy: 0.911\n",
      "Fold 2 accuracy: 0.841\n",
      "Fold 3 accuracy: 0.932\n",
      "Average accuracy: 0.895\n"
     ]
    }
   ],
   "source": [
    "accuracy = []\n",
    "\n",
    "# Compute classifier's accuracy on each fold\n",
    "for j, (train_idx, val_idx) in enumerate(cv):\n",
    "    rf.fit(X_train.iloc[train_idx], y_train.iloc[train_idx])\n",
    "    accuracy_per_fold = rf.score(X_train.iloc[val_idx], y_train.iloc[val_idx])\n",
    "    accuracy.append(accuracy_per_fold)\n",
    "    print('Fold %d accuracy: %.3f' % (j+1, accuracy_per_fold))\n",
    "\n",
    "print('Average accuracy: %.3f' % np.mean(accuracy))"
   ]
  },
  {
   "cell_type": "markdown",
   "metadata": {},
   "source": [
    "## Plot receiver operating characteristic (ROC) curve"
   ]
  },
  {
   "cell_type": "code",
   "execution_count": 136,
   "metadata": {
    "collapsed": false
   },
   "outputs": [],
   "source": [
    "from matplotlib import pyplot as plt\n",
    "from sklearn import metrics\n",
    "\n",
    "fpr = dict()       # false positive rate\n",
    "tpr = dict()       # true positive rate\n",
    "auroc = dict()     # area under the ROC curve (AUROC)\n",
    "\n",
    "# Compute an ROC curve (with respect to the positive class) for each fold\n",
    "# Compute AUROC for each fold\n",
    "for j, (train_idx, val_idx) in enumerate(cv):\n",
    "    rf.fit(X_train.iloc[train_idx], y_train.iloc[train_idx])\n",
    "    y_prob = rf.predict_proba(X_train.iloc[val_idx])\n",
    "    fpr[j], tpr[j], _ = metrics.roc_curve(y_train.iloc[val_idx], y_prob[:, 0], pos_label='+')\n",
    "    auroc[j] = metrics.auc(fpr[j], tpr[j])\n",
    "\n",
    "# Compute an average ROC curve for all folds\n",
    "fpr['avg'] = np.unique(np.concatenate([fpr[j] for j in range(k)]))\n",
    "tpr['avg'] = np.zeros_like(fpr['avg'])\n",
    "\n",
    "for j in range(k):\n",
    "    tpr['avg'] += np.interp(fpr['avg'], fpr[j], tpr[j])\n",
    "\n",
    "tpr['avg'] /= k\n",
    "\n",
    "# Compute AUROC of the average ROC curve\n",
    "auroc['avg'] = metrics.auc(fpr['avg'], tpr['avg'])"
   ]
  },
  {
   "cell_type": "code",
   "execution_count": 137,
   "metadata": {
    "collapsed": false
   },
   "outputs": [
    {
     "data": {
      "image/png": "[encoded data removed]",
      "text/plain": [
       "<matplotlib.figure.Figure at 0x10a334ac8>"
      ]
     },
     "metadata": {},
     "output_type": "display_data"
    }
   ],
   "source": [
    "# Plot the ROC curves\n",
    "for j in range(k):\n",
    "    plt.plot(fpr[j], tpr[j], label='fold %d (area = %.3f)' % (j+1, auroc[j]))\n",
    "\n",
    "plt.plot(fpr['avg'], tpr['avg'], 'k--', label='mean ROC (area = %.3f)' % auroc['avg'], lw=2)\n",
    "plt.plot([0,1], [0,1], linestyle='--', color=(0.6, 0.6, 0.6))     # ROC curve for a random classifier\n",
    "plt.plot([0,0,1], [0,1,1], linestyle='--', color=(0.6, 0.6, 0.6)) # ROC curve for a perfect classifier\n",
    "\n",
    "plt.xlim([-0.05, 1.05])\n",
    "plt.ylim([-0.05, 1.05])\n",
    "plt.xlabel('FPR')\n",
    "plt.ylabel('TPR')\n",
    "plt.legend(loc='lower right')\n",
    "\n",
    "plt.show()"
   ]
  },
  {
   "cell_type": "markdown",
   "metadata": {},
   "source": [
    "## Plot precision-recall (PR) curve"
   ]
  },
  {
   "cell_type": "code",
   "execution_count": 145,
   "metadata": {
    "collapsed": true
   },
   "outputs": [],
   "source": [
    "precision_plus = dict()\n",
    "recall_plus = dict()\n",
    "auprc_plus = dict()\n",
    "\n",
    "precision_minus = dict()\n",
    "recall_minus = dict()\n",
    "auprc_minus = dict()\n",
    "\n",
    "# Compute PR curves (with respect to the positive and negative classes) for each fold\n",
    "# Compute AUPRC for each fold\n",
    "for j, (train_idx, val_idx) in enumerate(cv):\n",
    "    rf.fit(X_train.iloc[train_idx], y_train.iloc[train_idx])\n",
    "    y_prob = rf.predict_proba(X_train.iloc[val_idx])\n",
    "    precision_plus[j], recall_plus[j], _ = metrics.precision_recall_curve(y_train.iloc[val_idx], y_prob[:, 0], pos_label='+')\n",
    "    precision_minus[j], recall_minus[j], _ = metrics.precision_recall_curve(y_train.iloc[val_idx], y_prob[:, 1], pos_label='-')\n",
    "    auprc_plus[j] = metrics.auc(recall_plus[j], precision_plus[j])\n",
    "    auprc_minus[j] = metrics.auc(recall_minus[j], precision_minus[j])\n",
    "\n",
    "# Compute average PR curves for all folds\n",
    "recall_plus['avg'] = np.unique(np.concatenate([recall_plus[j] for j in range(k)]))\n",
    "recall_minus['avg'] = np.unique(np.concatenate([recall_minus[j] for j in range(k)]))\n",
    "precision_plus['avg'] = np.zeros_like(recall_plus['avg'])\n",
    "precision_minus['avg'] = np.zeros_like(recall_minus['avg'])\n",
    "\n",
    "for j in range(k):\n",
    "    precision_plus['avg'] += np.interp(recall_plus['avg'], np.flip(recall_plus[j], 0), np.flip(precision_plus[j], 0))\n",
    "    precision_minus['avg'] += np.interp(recall_minus['avg'], np.flip(recall_minus[j], 0), np.flip(precision_minus[j], 0))\n",
    "\n",
    "precision_plus['avg'] /= k\n",
    "precision_minus['avg'] /= k\n",
    "\n",
    "# Compute AUPRCs for the average curves\n",
    "auprc_plus['avg'] = metrics.auc(recall_plus['avg'], precision_plus['avg'])\n",
    "auprc_minus['avg'] = metrics.auc(recall_minus['avg'], precision_minus['avg'])"
   ]
  },
  {
   "cell_type": "markdown",
   "metadata": {},
   "source": [
    "### PR curve w.r.t the positive class"
   ]
  },
  {
   "cell_type": "code",
   "execution_count": 146,
   "metadata": {
    "collapsed": false
   },
   "outputs": [
    {
     "data": {
      "image/png": "[encoded data removed]",
      "text/plain": [
       "<matplotlib.figure.Figure at 0x10a5f45f8>"
      ]
     },
     "metadata": {},
     "output_type": "display_data"
    }
   ],
   "source": [
    "# Plot the PR curves for the positive class\n",
    "for j in range(k):\n",
    "    plt.plot(recall_plus[j], precision_plus[j], label='fold %d (area = %.3f)' % (j+1, auprc_plus[j]))\n",
    "\n",
    "plt.plot(recall_plus['avg'], precision_plus['avg'], 'k--', label='mean PR (area = %.3f)' % auprc_plus['avg'], lw=2)\n",
    "plt.plot([0,1,1], [1,1,0], linestyle='--', color=(0.6, 0.6, 0.6))   # PR curve for a perfect classifier\n",
    "\n",
    "plt.xlim([-0.05, 1.05])\n",
    "plt.ylim([-0.05, 1.05])\n",
    "plt.xlabel('recall')\n",
    "plt.ylabel('precision')\n",
    "plt.legend(loc='lower left')\n",
    "\n",
    "plt.show()"
   ]
  },
  {
   "cell_type": "markdown",
   "metadata": {},
   "source": [
    "### PR curve w.r.t the negative class"
   ]
  },
  {
   "cell_type": "code",
   "execution_count": 147,
   "metadata": {
    "collapsed": false
   },
   "outputs": [
    {
     "data": {
      "image/png": "[encoded data removed]",
      "text/plain": [
       "<matplotlib.figure.Figure at 0x10a5667f0>"
      ]
     },
     "metadata": {},
     "output_type": "display_data"
    }
   ],
   "source": [
    "# Plot the PR curves for the negative class\n",
    "for j in range(k):\n",
    "    plt.plot(recall_minus[j], precision_minus[j], label='fold %d (area = %.3f)' % (j+1, auprc_minus[j]))\n",
    "\n",
    "plt.plot(recall_minus['avg'], precision_minus['avg'], 'k--', label='mean PR (area = %.3f)' % auprc_minus['avg'], lw=2)\n",
    "plt.plot([0,1,1], [1,1,0], linestyle='--', color=(0.6, 0.6, 0.6))   # PR curve for a perfect classifier\n",
    "\n",
    "plt.xlim([-0.05, 1.05])\n",
    "plt.ylim([-0.05, 1.05])\n",
    "plt.xlabel('recall')\n",
    "plt.ylabel('precision')\n",
    "plt.legend(loc='lower left')\n",
    "\n",
    "plt.show()"
   ]
  },
  {
   "cell_type": "markdown",
   "metadata": {},
   "source": [
    "## Plot confusion matrix"
   ]
  },
  {
   "cell_type": "code",
   "execution_count": 218,
   "metadata": {
    "collapsed": true
   },
   "outputs": [],
   "source": [
    "# Compute a 2x2 confusion matrix\n",
    "confusion_matrix = np.zeros([2, 2])\n",
    "\n",
    "for j, (train_idx, val_idx) in enumerate(cv):\n",
    "    rf.fit(X_train.iloc[train_idx], y_train.iloc[train_idx])\n",
    "    y = rf.predict(X_train.iloc[val_idx])\n",
    "    confusion_matrix += metrics.confusion_matrix(y_train.iloc[val_idx], y)\n",
    "\n",
    "# Average over all folds\n",
    "confusion_matrix /= k\n",
    "confusion_matrix = np.around(confusion_matrix, decimals=3)"
   ]
  },
  {
   "cell_type": "code",
   "execution_count": 221,
   "metadata": {
    "collapsed": false
   },
   "outputs": [
    {
     "data": {
      "image/png": "[encoded data removed]",
      "text/plain": [
       "<matplotlib.figure.Figure at 0x10a331160>"
      ]
     },
     "metadata": {},
     "output_type": "display_data"
    }
   ],
   "source": [
    "# Plot the confusion matrix\n",
    "plt.matshow(confusion_matrix, interpolation='nearest', cmap=plt.cm.Blues, alpha=0.5)\n",
    "plt.xticks(np.arange(2), ('+', '-'))\n",
    "plt.yticks(np.arange(2), ('+', '-'))\n",
    "\n",
    "for i in range(2):\n",
    "    for j in range(2):\n",
    "        plt.text(j, i, confusion_matrix[i, j], ha='center', va='center')\n",
    "\n",
    "plt.xlabel('Predicted label')\n",
    "plt.ylabel('True label')\n",
    "\n",
    "plt.show()"
   ]
  },
  {
   "cell_type": "markdown",
   "metadata": {},
   "source": [
    "# STEP 3: Evaluation"
   ]
  },
  {
   "cell_type": "code",
   "execution_count": 182,
   "metadata": {
    "collapsed": false
   },
   "outputs": [],
   "source": [
    "# Refit the classifier using the full training set\n",
    "rf = rf.fit(X_train, y_train)"
   ]
  },
  {
   "cell_type": "markdown",
   "metadata": {},
   "source": [
    "### Compute classifier accuracy on the test set"
   ]
  },
  {
   "cell_type": "code",
   "execution_count": 183,
   "metadata": {
    "collapsed": false
   },
   "outputs": [
    {
     "name": "stdout",
     "output_type": "stream",
     "text": [
      "Test accuracy: 0.882\n"
     ]
    }
   ],
   "source": [
    "# Compute classifier's accuracy on the test set\n",
    "test_accuracy = rf.score(X_test, y_test)\n",
    "print('Test accuracy: %.3f' % test_accuracy)"
   ]
  },
  {
   "cell_type": "markdown",
   "metadata": {},
   "source": [
    "### Generate plots for the test set"
   ]
  },
  {
   "cell_type": "code",
   "execution_count": 213,
   "metadata": {
    "collapsed": false
   },
   "outputs": [],
   "source": [
    "# Predict labels for the test set\n",
    "y = rf.predict(X_test)             # Solid prediction\n",
    "y_prob = rf.predict_proba(X_test)  # Soft prediction\n",
    "\n",
    "# Compute the ROC and PR curves for the test set\n",
    "fpr, tpr, _ = metrics.roc_curve(y_test, y_prob[:, 0], pos_label='+')\n",
    "precision_plus, recall_plus, _ = metrics.precision_recall_curve(y_test, y_prob[:, 0], pos_label='+')\n",
    "precision_minus, recall_minus, _ = metrics.precision_recall_curve(y_test, y_prob[:, 1], pos_label='-')\n",
    "\n",
    "# Compute the AUROC and AUPRCs for the test set\n",
    "auroc = metrics.auc(fpr, tpr)\n",
    "auprc_plus = metrics.auc(recall_plus, precision_plus)\n",
    "auprc_minus = metrics.auc(recall_minus, precision_minus)\n",
    "\n",
    "# Compute the confusion matrix for the test set\n",
    "cm = metrics.confusion_matrix(y_test, y)"
   ]
  },
  {
   "cell_type": "code",
   "execution_count": 214,
   "metadata": {
    "collapsed": false
   },
   "outputs": [
    {
     "data": {
      "image/png": "[encoded data removed]",
      "text/plain": [
       "<matplotlib.figure.Figure at 0x10a5cb588>"
      ]
     },
     "metadata": {},
     "output_type": "display_data"
    }
   ],
   "source": [
    "# Plot the ROC curve for the test set\n",
    "plt.plot(fpr, tpr, label='test (area = %.3f)' % auroc)\n",
    "plt.plot([0,1], [0,1], linestyle='--', color=(0.6, 0.6, 0.6))\n",
    "plt.plot([0,0,1], [0,1,1], linestyle='--', color=(0.6, 0.6, 0.6))\n",
    "\n",
    "plt.xlim([-0.05, 1.05])\n",
    "plt.ylim([-0.05, 1.05])\n",
    "plt.xlabel('FPR')\n",
    "plt.ylabel('TPR')\n",
    "plt.legend(loc='lower right')\n",
    "plt.title('ROC curve')\n",
    "\n",
    "plt.show()"
   ]
  },
  {
   "cell_type": "code",
   "execution_count": 215,
   "metadata": {
    "collapsed": false
   },
   "outputs": [
    {
     "data": {
      "image/png": "[encoded data removed]",
      "text/plain": [
       "<matplotlib.figure.Figure at 0x10a5b8898>"
      ]
     },
     "metadata": {},
     "output_type": "display_data"
    }
   ],
   "source": [
    "# Plot the PR curve for the test set\n",
    "plt.plot(recall_plus, precision_plus, label='positive class (area = %.3f)' % auprc_plus)\n",
    "plt.plot(recall_minus, precision_minus, label='negative class (area = %.3f)' % auprc_minus)\n",
    "\n",
    "plt.plot([0,1,1], [1,1,0], linestyle='--', color=(0.6, 0.6, 0.6))\n",
    "\n",
    "plt.xlim([-0.05, 1.05])\n",
    "plt.ylim([-0.05, 1.05])\n",
    "plt.xlabel('recall')\n",
    "plt.ylabel('precision')\n",
    "plt.legend(loc='lower left')\n",
    "plt.title('Precision-recall curve')\n",
    "\n",
    "plt.show()"
   ]
  },
  {
   "cell_type": "code",
   "execution_count": 222,
   "metadata": {
    "collapsed": false
   },
   "outputs": [
    {
     "data": {
      "image/png": "[encoded data removed]",
      "text/plain": [
       "<matplotlib.figure.Figure at 0x10abaea20>"
      ]
     },
     "metadata": {},
     "output_type": "display_data"
    }
   ],
   "source": [
    "# Plot the confusion matri for the test set\n",
    "plt.matshow(cm, interpolation='nearest', cmap=plt.cm.Blues, alpha=0.5)\n",
    "plt.xticks(np.arange(2), ('+', '-'))\n",
    "plt.yticks(np.arange(2), ('+', '-'))\n",
    "\n",
    "for i in range(2):\n",
    "    for j in range(2):\n",
    "        plt.text(j, i, cm[i, j], ha='center', va='center')\n",
    "\n",
    "plt.xlabel('Predicted label')\n",
    "plt.ylabel('True label')\n",
    "\n",
    "plt.show()"
   ]
  },
  {
   "cell_type": "markdown",
   "metadata": {},
   "source": [
    "## STEP 4: Prediction"
   ]
  },
  {
   "cell_type": "code",
   "execution_count": 241,
   "metadata": {
    "collapsed": true
   },
   "outputs": [],
   "source": [
    "# Enter unlabeled data for prediction"
   ]
  },
  {
   "cell_type": "code",
   "execution_count": null,
   "metadata": {
    "collapsed": true
   },
   "outputs": [],
   "source": []
  }
 ],
 "metadata": {
  "kernelspec": {
   "display_name": "Python 3",
   "language": "python",
   "name": "python3"
  },
  "language_info": {
   "codemirror_mode": {
    "name": "ipython",
    "version": 3
   },
   "file_extension": ".py",
   "mimetype": "text/x-python",
   "name": "python",
   "nbconvert_exporter": "python",
   "pygments_lexer": "ipython3",
   "version": "3.6.0"
  }
 },
 "nbformat": 4,
 "nbformat_minor": 2
}
